{
 "cells": [
  {
   "cell_type": "markdown",
   "id": "f8d87561",
   "metadata": {},
   "source": [
    "# Setup\n",
    "\n",
    "## Docker\n",
    "\n",
    "```\n",
    "docker run -p 8888:8888 -v \"$PWD\":/home/jovyan/ jupyter/scipy-notebook:33add21fab64\n",
    "docker run --name mypostgres -e POSTGRES_PASSWORD=health -d postgres\n",
    "\n",
    "!pip install psycopg2-binary\n",
    "```"
   ]
  },
  {
   "cell_type": "code",
   "execution_count": 60,
   "id": "57ef7e0c",
   "metadata": {},
   "outputs": [
    {
     "name": "stdout",
     "output_type": "stream",
     "text": [
      "Requirement already satisfied: psycopg2-binary in /opt/conda/lib/python3.9/site-packages (2.8.6)\n"
     ]
    }
   ],
   "source": [
    "!pip install psycopg2-binary\n",
    "import psycopg2"
   ]
  },
  {
   "cell_type": "code",
   "execution_count": 82,
   "id": "02e1aba7",
   "metadata": {},
   "outputs": [
    {
     "name": "stdout",
     "output_type": "stream",
     "text": [
      "Requirement already satisfied: pandas in /opt/conda/lib/python3.9/site-packages (1.2.4)\n",
      "Requirement already satisfied: python-dateutil>=2.7.3 in /opt/conda/lib/python3.9/site-packages (from pandas) (2.8.1)\n",
      "Requirement already satisfied: pytz>=2017.3 in /opt/conda/lib/python3.9/site-packages (from pandas) (2021.1)\n",
      "Requirement already satisfied: numpy>=1.16.5 in /opt/conda/lib/python3.9/site-packages (from pandas) (1.20.3)\n",
      "Requirement already satisfied: six>=1.5 in /opt/conda/lib/python3.9/site-packages (from python-dateutil>=2.7.3->pandas) (1.16.0)\n"
     ]
    },
    {
     "data": {
      "text/plain": [
       "'1.2.4'"
      ]
     },
     "execution_count": 82,
     "metadata": {},
     "output_type": "execute_result"
    }
   ],
   "source": [
    "!pip install pandas\n",
    "import pandas as pd\n",
    "pd.__version__"
   ]
  },
  {
   "cell_type": "code",
   "execution_count": 61,
   "id": "542b96e5",
   "metadata": {},
   "outputs": [],
   "source": [
    "try:\n",
    "    conn = psycopg2.connect(\"host=172.17.0.2 dbname=postgres user=postgres password=health\")\n",
    "except psycopg2.Error as e:\n",
    "    print(f\"error: {e}\")"
   ]
  },
  {
   "cell_type": "code",
   "execution_count": 62,
   "id": "93395d12",
   "metadata": {},
   "outputs": [],
   "source": [
    "conn.set_session(autocommit=True)"
   ]
  },
  {
   "cell_type": "code",
   "execution_count": 68,
   "id": "cbeb4286",
   "metadata": {},
   "outputs": [],
   "source": [
    "try:\n",
    "    cur = conn.cursor()\n",
    "except psycopg2.Error as e:\n",
    "    print(f\"error: {e}\")"
   ]
  },
  {
   "cell_type": "code",
   "execution_count": 69,
   "id": "351b85d5",
   "metadata": {},
   "outputs": [],
   "source": [
    "psql = cur.execute"
   ]
  },
  {
   "cell_type": "code",
   "execution_count": 70,
   "id": "17cd0f34",
   "metadata": {},
   "outputs": [
    {
     "name": "stdout",
     "output_type": "stream",
     "text": [
      "database \"udacity\" already exists\n",
      "\n"
     ]
    }
   ],
   "source": [
    "try:\n",
    "    cur.execute(\"create database udacity\")\n",
    "except psycopg2.Error as e:\n",
    "    print(e)"
   ]
  },
  {
   "cell_type": "code",
   "execution_count": 57,
   "id": "87220b55",
   "metadata": {},
   "outputs": [],
   "source": [
    "try:\n",
    "    conn.close()\n",
    "except psycopg2.Error as e:\n",
    "    print(e)"
   ]
  },
  {
   "cell_type": "code",
   "execution_count": 71,
   "id": "9fcc1891",
   "metadata": {},
   "outputs": [],
   "source": [
    "cur.execute(\"CREATE TABLE IF NOT EXISTS songs (song_title varchar, artist_name varchar, year int, album_name varchar, single Boolean)\")"
   ]
  },
  {
   "cell_type": "code",
   "execution_count": 111,
   "id": "201b8b67",
   "metadata": {},
   "outputs": [
    {
     "name": "stdout",
     "output_type": "stream",
     "text": [
      "[(4,)]\n"
     ]
    }
   ],
   "source": [
    "cur.execute(\"select count(*) from songs\")\n",
    "print(cur.fetchall())"
   ]
  },
  {
   "cell_type": "code",
   "execution_count": 131,
   "id": "d4c31365",
   "metadata": {},
   "outputs": [
    {
     "name": "stdout",
     "output_type": "stream",
     "text": [
      "('Think for For yourself', 'The Beatles', 1965, 'Rubber Soul', False)\n",
      "('Across The Universe', 'The Beatles', 1970, 'Let It Be', False)\n",
      "('Think for For yourself', 'The Beatles', 1965, 'Rubber Soul', False)\n",
      "('Across The Universe', 'The Beatles', 1970, 'Let It Be', False)\n"
     ]
    }
   ],
   "source": [
    "cur.execute(\"select * from songs\")\n",
    "rows = cur.fetchall()\n",
    "for row in rows:\n",
    "    print(row)"
   ]
  },
  {
   "cell_type": "code",
   "execution_count": 127,
   "id": "bab26fcc",
   "metadata": {},
   "outputs": [
    {
     "data": {
      "text/html": [
       "<div>\n",
       "<style scoped>\n",
       "    .dataframe tbody tr th:only-of-type {\n",
       "        vertical-align: middle;\n",
       "    }\n",
       "\n",
       "    .dataframe tbody tr th {\n",
       "        vertical-align: top;\n",
       "    }\n",
       "\n",
       "    .dataframe thead th {\n",
       "        text-align: right;\n",
       "    }\n",
       "</style>\n",
       "<table border=\"1\" class=\"dataframe\">\n",
       "  <thead>\n",
       "    <tr style=\"text-align: right;\">\n",
       "      <th></th>\n",
       "      <th>title</th>\n",
       "      <th>group</th>\n",
       "      <th>year</th>\n",
       "      <th>album</th>\n",
       "      <th>single</th>\n",
       "    </tr>\n",
       "  </thead>\n",
       "  <tbody>\n",
       "    <tr>\n",
       "      <th>0</th>\n",
       "      <td>Think for For yourself</td>\n",
       "      <td>The Beatles</td>\n",
       "      <td>1965</td>\n",
       "      <td>Rubber Soul</td>\n",
       "      <td>False</td>\n",
       "    </tr>\n",
       "    <tr>\n",
       "      <th>1</th>\n",
       "      <td>Across The Universe</td>\n",
       "      <td>The Beatles</td>\n",
       "      <td>1970</td>\n",
       "      <td>Let It Be</td>\n",
       "      <td>False</td>\n",
       "    </tr>\n",
       "    <tr>\n",
       "      <th>2</th>\n",
       "      <td>Think for For yourself</td>\n",
       "      <td>The Beatles</td>\n",
       "      <td>1965</td>\n",
       "      <td>Rubber Soul</td>\n",
       "      <td>False</td>\n",
       "    </tr>\n",
       "    <tr>\n",
       "      <th>3</th>\n",
       "      <td>Across The Universe</td>\n",
       "      <td>The Beatles</td>\n",
       "      <td>1970</td>\n",
       "      <td>Let It Be</td>\n",
       "      <td>False</td>\n",
       "    </tr>\n",
       "  </tbody>\n",
       "</table>\n",
       "</div>"
      ],
      "text/plain": [
       "                    title        group  year        album  single\n",
       "0  Think for For yourself  The Beatles  1965  Rubber Soul   False\n",
       "1     Across The Universe  The Beatles  1970    Let It Be   False\n",
       "2  Think for For yourself  The Beatles  1965  Rubber Soul   False\n",
       "3     Across The Universe  The Beatles  1970    Let It Be   False"
      ]
     },
     "execution_count": 127,
     "metadata": {},
     "output_type": "execute_result"
    }
   ],
   "source": [
    "df = pd.DataFrame(rows, columns=['title', 'group', 'year', 'album', 'single'])\n",
    "df"
   ]
  },
  {
   "cell_type": "code",
   "execution_count": 109,
   "id": "d8858fb5",
   "metadata": {},
   "outputs": [],
   "source": [
    "cur.execute(\"INSERT INTO songs (song_title, artist_name, year, album_name, single)\\\n",
    "VALUES (%s, %s, %s, %s, %s)\", (\"Think for For yourself\", \"The Beatles\", 1965, \"Rubber Soul\", False))"
   ]
  },
  {
   "cell_type": "code",
   "execution_count": 110,
   "id": "72915818",
   "metadata": {},
   "outputs": [],
   "source": [
    "cur.execute(\"INSERT INTO songs (song_title, artist_name, year, album_name, single)\\\n",
    "VALUES (%s, %s, %s, %s, %s)\", (\"Across The Universe\", \"The Beatles\", 1970, \"Let It Be\", False))"
   ]
  },
  {
   "cell_type": "code",
   "execution_count": null,
   "id": "dc018865",
   "metadata": {},
   "outputs": [],
   "source": []
  }
 ],
 "metadata": {
  "kernelspec": {
   "display_name": "Python 3 (ipykernel)",
   "language": "python",
   "name": "python3"
  },
  "language_info": {
   "codemirror_mode": {
    "name": "ipython",
    "version": 3
   },
   "file_extension": ".py",
   "mimetype": "text/x-python",
   "name": "python",
   "nbconvert_exporter": "python",
   "pygments_lexer": "ipython3",
   "version": "3.9.5"
  }
 },
 "nbformat": 4,
 "nbformat_minor": 5
}
